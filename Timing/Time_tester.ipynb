{
 "cells": [
  {
   "cell_type": "code",
   "execution_count": 18,
   "metadata": {
    "collapsed": true
   },
   "outputs": [],
   "source": [
    "# Importeer Main / maintest_new\n",
    "import maintest_new"
   ]
  },
  {
   "cell_type": "code",
   "execution_count": 1,
   "metadata": {},
   "outputs": [
    {
     "name": "stdout",
     "output_type": "stream",
     "text": [
      "Generating map..\n"
     ]
    }
   ],
   "source": [
    "from maintest_new import startGeneration\n",
    "startGeneration(20, 2)"
   ]
  },
  {
   "cell_type": "code",
   "execution_count": 2,
   "metadata": {
    "collapsed": true
   },
   "outputs": [],
   "source": [
    "def t(times):\n",
    "    for x in range(times):\n",
    "        startGeneration(20, 2)\n",
    "    return 0"
   ]
  },
  {
   "cell_type": "code",
   "execution_count": 3,
   "metadata": {},
   "outputs": [
    {
     "name": "stdout",
     "output_type": "stream",
     "text": [
      "Generating map..\n",
      "Generating map..\n",
      "Generating map..\n",
      "Generating map..\n",
      "Generating map..\n",
      "Generating map..\n",
      "Generating map..\n",
      "Generating map..\n",
      "Generating map..\n",
      "Generating map..\n",
      "Generating map..\n",
      "Generating map..\n",
      "Generating map..\n",
      "Generating map..\n",
      "Generating map..\n",
      "Generating map..\n",
      "Generating map..\n",
      "Generating map..\n",
      "Generating map..\n",
      "Generating map..\n",
      "Generating map..\n",
      "Generating map..\n",
      "Generating map..\n",
      "Generating map..\n",
      "Generating map..\n",
      "Generating map..\n",
      "Generating map..\n",
      "Generating map..\n",
      "Generating map..\n",
      "Generating map..\n",
      "Generating map..\n",
      "Generating map..\n",
      "Generating map..\n",
      "Generating map..\n",
      "Generating map..\n",
      "Generating map..\n",
      "Generating map..\n",
      "Generating map..\n",
      "Generating map..\n",
      "Generating map..\n",
      "Generating map..\n",
      "Generating map..\n",
      "Generating map..\n",
      "Generating map..\n",
      "Generating map..\n",
      "Generating map..\n",
      "Generating map..\n",
      "Generating map..\n",
      "Generating map..\n",
      "Generating map..\n",
      "Generating map..\n",
      "Generating map..\n",
      "Generating map..\n",
      "Generating map..\n",
      "Generating map..\n",
      "Generating map..\n",
      "Generating map..\n",
      "Generating map..\n",
      "Generating map..\n",
      "Generating map..\n",
      "Generating map..\n",
      "Generating map..\n",
      "Generating map..\n",
      "Generating map..\n",
      "Generating map..\n",
      "Generating map..\n",
      "Generating map..\n",
      "Generating map..\n",
      "Generating map..\n",
      "Generating map..\n",
      "Generating map..\n",
      "Generating map..\n",
      "Generating map..\n",
      "Generating map..\n",
      "Generating map..\n",
      "Generating map..\n",
      "Generating map..\n",
      "Generating map..\n",
      "Generating map..\n",
      "Generating map..\n",
      "Generating map..\n",
      "Generating map..\n",
      "Generating map..\n",
      "Generating map..\n",
      "Generating map..\n",
      "Generating map..\n",
      "Generating map..\n",
      "Generating map..\n",
      "Generating map..\n",
      "Generating map..\n",
      "Generating map..\n",
      "Generating map..\n",
      "Generating map..\n",
      "Generating map..\n",
      "Generating map..\n",
      "Generating map..\n",
      "Generating map..\n",
      "Generating map..\n",
      "Generating map..\n",
      "Generating map..\n",
      "Wall time: 587 ms\n"
     ]
    },
    {
     "data": {
      "text/plain": [
       "0"
      ]
     },
     "execution_count": 3,
     "metadata": {},
     "output_type": "execute_result"
    }
   ],
   "source": [
    "%time t(100)"
   ]
  }
 ],
 "metadata": {
  "kernelspec": {
   "display_name": "Python 3",
   "language": "python",
   "name": "python3"
  },
  "language_info": {
   "codemirror_mode": {
    "name": "ipython",
    "version": 3
   },
   "file_extension": ".py",
   "mimetype": "text/x-python",
   "name": "python",
   "nbconvert_exporter": "python",
   "pygments_lexer": "ipython3",
   "version": "3.6.3"
  }
 },
 "nbformat": 4,
 "nbformat_minor": 2
}
