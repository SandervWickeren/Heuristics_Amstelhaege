{
 "cells": [
  {
   "cell_type": "code",
   "execution_count": 18,
   "metadata": {
    "collapsed": true
   },
   "outputs": [],
   "source": [
    "# Importeer Main / maintest_new\n",
    "import maintest"
   ]
  },
  {
   "cell_type": "code",
   "execution_count": 19,
   "metadata": {},
   "outputs": [
    {
     "name": "stdout",
     "output_type": "stream",
     "text": [
      "Generating map..\n"
     ]
    }
   ],
   "source": [
    "from maintest import startGeneration\n",
    "startGeneration(20)"
   ]
  },
  {
   "cell_type": "code",
   "execution_count": 20,
   "metadata": {
    "collapsed": true
   },
   "outputs": [],
   "source": [
    "def t(times):\n",
    "    for x in range(times):\n",
    "        startGeneration(20)\n",
    "    return 0"
   ]
  },
  {
   "cell_type": "code",
   "execution_count": 21,
   "metadata": {},
   "outputs": [
    {
     "name": "stdout",
     "output_type": "stream",
     "text": [
      "Generating map..\n",
      "Generating map..\n",
      "Generating map..\n",
      "Generating map..\n",
      "Generating map..\n",
      "Generating map..\n",
      "Generating map..\n",
      "Generating map..\n",
      "Generating map..\n",
      "Generating map..\n",
      "Generating map..\n",
      "Generating map..\n",
      "Generating map..\n",
      "Generating map..\n",
      "Generating map..\n",
      "Generating map..\n",
      "Generating map..\n",
      "Generating map..\n",
      "Generating map..\n",
      "Generating map..\n",
      "Generating map..\n",
      "Generating map..\n",
      "Generating map..\n",
      "Generating map..\n",
      "Generating map..\n",
      "Generating map..\n",
      "Generating map..\n",
      "Generating map..\n",
      "Generating map..\n",
      "Generating map..\n",
      "Generating map..\n",
      "Generating map..\n",
      "Generating map..\n",
      "Generating map..\n",
      "Generating map..\n",
      "Generating map..\n",
      "Generating map..\n",
      "Generating map..\n",
      "Generating map..\n",
      "Generating map..\n",
      "Generating map..\n",
      "Generating map..\n",
      "Generating map..\n",
      "Generating map..\n",
      "Generating map..\n",
      "Generating map..\n",
      "Generating map..\n",
      "Generating map..\n",
      "Generating map..\n",
      "Generating map..\n",
      "Generating map..\n",
      "Generating map..\n",
      "Generating map..\n",
      "Generating map..\n",
      "Generating map..\n",
      "Generating map..\n",
      "Generating map..\n",
      "Generating map..\n",
      "Generating map..\n",
      "Generating map..\n",
      "Generating map..\n",
      "Generating map..\n",
      "Generating map..\n",
      "Generating map..\n",
      "Generating map..\n",
      "Generating map..\n",
      "Generating map..\n",
      "Generating map..\n",
      "Generating map..\n",
      "Generating map..\n",
      "Generating map..\n",
      "Generating map..\n",
      "Generating map..\n",
      "Generating map..\n",
      "Generating map..\n",
      "Generating map..\n",
      "Generating map..\n",
      "Generating map..\n",
      "Generating map..\n",
      "Generating map..\n",
      "Generating map..\n",
      "Generating map..\n",
      "Generating map..\n",
      "Generating map..\n",
      "Generating map..\n",
      "Generating map..\n",
      "Generating map..\n",
      "Generating map..\n",
      "Generating map..\n",
      "Generating map..\n",
      "Generating map..\n",
      "Generating map..\n",
      "Generating map..\n",
      "Generating map..\n",
      "Generating map..\n",
      "Generating map..\n",
      "Generating map..\n",
      "Generating map..\n",
      "Generating map..\n",
      "Generating map..\n",
      "Wall time: 2min 42s\n"
     ]
    },
    {
     "data": {
      "text/plain": [
       "0"
      ]
     },
     "execution_count": 21,
     "metadata": {},
     "output_type": "execute_result"
    }
   ],
   "source": [
    "%time t(100)"
   ]
  }
 ],
 "metadata": {
  "kernelspec": {
   "display_name": "Python 3",
   "language": "python",
   "name": "python3"
  },
  "language_info": {
   "codemirror_mode": {
    "name": "ipython",
    "version": 3
   },
   "file_extension": ".py",
   "mimetype": "text/x-python",
   "name": "python",
   "nbconvert_exporter": "python",
   "pygments_lexer": "ipython3",
   "version": "3.6.3"
  }
 },
 "nbformat": 4,
 "nbformat_minor": 2
}
